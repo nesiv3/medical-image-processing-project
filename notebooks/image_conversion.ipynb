{
 "cells": [
  {
   "cell_type": "code",
   "execution_count": 3,
   "id": "2bb1e096",
   "metadata": {},
   "outputs": [],
   "source": [
    "import os\n",
    "from pathlib import Path\n",
    "import dicom2nifti\n",
    "import dicom2nifti.settings as settings\n",
    "\n",
    "settings.disable_validate_orthogonal()\n",
    "settings.disable_validate_slice_increment()"
   ]
  },
  {
   "cell_type": "code",
   "execution_count": 4,
   "id": "ee52f34a",
   "metadata": {},
   "outputs": [
    {
     "name": "stdout",
     "output_type": "stream",
     "text": [
      "Base path: C:\\Users\\dojom\\source\\repos\\medical-image-processing-project\n"
     ]
    }
   ],
   "source": [
    "BASE_PATH = Path(os.getcwd()).parent\n",
    "print(\"Base path:\", BASE_PATH)"
   ]
  },
  {
   "cell_type": "code",
   "execution_count": 5,
   "id": "6ec2abd7",
   "metadata": {},
   "outputs": [
    {
     "name": "stdout",
     "output_type": "stream",
     "text": [
      "Converted train\\30s\\10 → train_nifti\\10\\p10_PET.nii.gz\n",
      "Converted train\\30s\\11 → train_nifti\\11\\p11_PET.nii.gz\n",
      "Converted train\\30s\\12 → train_nifti\\12\\p12_PET.nii.gz\n",
      "Converted train\\30s\\14 → train_nifti\\14\\p14_PET.nii.gz\n",
      "Converted train\\30s\\16 → train_nifti\\16\\p16_PET.nii.gz\n",
      "Converted train\\30s\\17 → train_nifti\\17\\p17_PET.nii.gz\n",
      "Converted train\\30s\\18 → train_nifti\\18\\p18_PET.nii.gz\n",
      "Converted train\\30s\\23 → train_nifti\\23\\p23_PET.nii.gz\n",
      "Converted train\\30s\\26 → train_nifti\\26\\p26_PET.nii.gz\n",
      "Converted train\\30s\\27 → train_nifti\\27\\p27_PET.nii.gz\n",
      "Converted train\\30s\\28 → train_nifti\\28\\p28_PET.nii.gz\n",
      "Converted train\\30s\\29 → train_nifti\\29\\p29_PET.nii.gz\n",
      "Converted train\\30s\\30 → train_nifti\\30\\p30_PET.nii.gz\n",
      "Converted train\\30s_denoised\\10 → train_nifti\\10\\p10_PET_enhanced.nii.gz\n",
      "Converted train\\30s_denoised\\11 → train_nifti\\11\\p11_PET_enhanced.nii.gz\n",
      "Converted train\\30s_denoised\\12 → train_nifti\\12\\p12_PET_enhanced.nii.gz\n",
      "Converted train\\30s_denoised\\14 → train_nifti\\14\\p14_PET_enhanced.nii.gz\n",
      "Converted train\\30s_denoised\\16 → train_nifti\\16\\p16_PET_enhanced.nii.gz\n",
      "Converted train\\30s_denoised\\17 → train_nifti\\17\\p17_PET_enhanced.nii.gz\n",
      "Converted train\\30s_denoised\\18 → train_nifti\\18\\p18_PET_enhanced.nii.gz\n",
      "Converted train\\30s_denoised\\23 → train_nifti\\23\\p23_PET_enhanced.nii.gz\n",
      "Converted train\\30s_denoised\\26 → train_nifti\\26\\p26_PET_enhanced.nii.gz\n",
      "Converted train\\30s_denoised\\27 → train_nifti\\27\\p27_PET_enhanced.nii.gz\n",
      "Converted train\\30s_denoised\\28 → train_nifti\\28\\p28_PET_enhanced.nii.gz\n",
      "Converted train\\30s_denoised\\29 → train_nifti\\29\\p29_PET_enhanced.nii.gz\n",
      "Converted train\\30s_denoised\\30 → train_nifti\\30\\p30_PET_enhanced.nii.gz\n",
      "Converted train\\CT\\10 → train_nifti\\10\\p10_CT.nii.gz\n",
      "Converted train\\CT\\11 → train_nifti\\11\\p11_CT.nii.gz\n",
      "Converted train\\CT\\12 → train_nifti\\12\\p12_CT.nii.gz\n",
      "Converted train\\CT\\14 → train_nifti\\14\\p14_CT.nii.gz\n",
      "Converted train\\CT\\16 → train_nifti\\16\\p16_CT.nii.gz\n",
      "Converted train\\CT\\17 → train_nifti\\17\\p17_CT.nii.gz\n",
      "Converted train\\CT\\18 → train_nifti\\18\\p18_CT.nii.gz\n",
      "Converted train\\CT\\23 → train_nifti\\23\\p23_CT.nii.gz\n",
      "Converted train\\CT\\26 → train_nifti\\26\\p26_CT.nii.gz\n",
      "Converted train\\CT\\27 → train_nifti\\27\\p27_CT.nii.gz\n",
      "Converted train\\CT\\28 → train_nifti\\28\\p28_CT.nii.gz\n",
      "Converted train\\CT\\29 → train_nifti\\29\\p29_CT.nii.gz\n",
      "Converted train\\CT\\30 → train_nifti\\30\\p30_CT.nii.gz\n"
     ]
    }
   ],
   "source": [
    "source_dir =  BASE_PATH / \"train\"\n",
    "nifti_dir = BASE_PATH / \"train_nifti\"\n",
    "os.makedirs(nifti_dir, exist_ok=True)\n",
    "\n",
    "parsing_dictionary = {\n",
    "        '30s': \"PET\",\n",
    "        'CT': \"CT\",\n",
    "        '30s_denoised': \"PET_enhanced\"\n",
    "    }\n",
    "\n",
    "for root, folders, files in os.walk(source_dir):\n",
    "    root = Path(root)\n",
    "    rel_root = root.relative_to(BASE_PATH)\n",
    "\n",
    "    # Get only DICOM files\n",
    "    dicom_files = [root / f for f in files if f.lower().endswith(\".dcm\")]\n",
    "\n",
    "    if dicom_files:\n",
    "        # Handling file names and folders\n",
    "        names = str(rel_root).split(os.sep)\n",
    "        file_name = f\"p{names[2]}_\" + parsing_dictionary[names[1]] + \".nii.gz\"\n",
    "        folder = nifti_dir / str(names[2])\n",
    "        os.makedirs(folder, exist_ok=True)\n",
    "\n",
    "        output_file = folder / file_name\n",
    "\n",
    "        try:\n",
    "            dicom2nifti.dicom_series_to_nifti(root, output_file, reorient_nifti=False)\n",
    "            print(f\"Converted {rel_root} → {output_file.relative_to(BASE_PATH)}\")\n",
    "        except Exception as e:\n",
    "            print(f\"❌ Failed to convert {rel_root}: {e}\")"
   ]
  },
  {
   "cell_type": "code",
   "execution_count": null,
   "id": "94f66f59-d7f3-437f-8f13-bb6b66804317",
   "metadata": {},
   "outputs": [],
   "source": []
  },
  {
   "cell_type": "code",
   "execution_count": null,
   "id": "fb2c6093-bee8-40e0-82f0-6038ffc73977",
   "metadata": {},
   "outputs": [],
   "source": []
  }
 ],
 "metadata": {
  "kernelspec": {
   "display_name": "Python 3 (ipykernel)",
   "language": "python",
   "name": "python3"
  },
  "language_info": {
   "codemirror_mode": {
    "name": "ipython",
    "version": 3
   },
   "file_extension": ".py",
   "mimetype": "text/x-python",
   "name": "python",
   "nbconvert_exporter": "python",
   "pygments_lexer": "ipython3",
   "version": "3.10.16"
  }
 },
 "nbformat": 4,
 "nbformat_minor": 5
}
